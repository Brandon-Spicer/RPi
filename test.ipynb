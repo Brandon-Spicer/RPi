{
 "cells": [
  {
   "cell_type": "code",
   "execution_count": null,
   "metadata": {},
   "outputs": [],
   "source": [
    "import RPi.GPIO as GPIO\n",
    "from time import sleep\n",
    "from gpiohelpers import *"
   ]
  },
  {
   "cell_type": "code",
   "execution_count": null,
   "metadata": {},
   "outputs": [],
   "source": [
    "# helpers\n",
    "\n",
    "def on(pin):\n",
    "    GPIO.output(pin, GPIO.HIGH)\n",
    "\n",
    "def off(pin):\n",
    "    GPIO.output(pin, GPIO.LOW)\n",
    "\n",
    "def toggle(pin):\n",
    "    if GPIO.input(pin):\n",
    "        on(pin)\n",
    "    else:\n",
    "        off(pin)"
   ]
  },
  {
   "cell_type": "code",
   "execution_count": null,
   "metadata": {},
   "outputs": [],
   "source": [
    "GPIO.setmode(GPIO.BOARD)\n",
    "\n",
    "# output pins used\n",
    "pins = [8, 10, 12, 16, 18, 22, 24, 26]\n",
    "xpins = pins[:4]\n",
    "ypins = pins[4:]\n",
    "\n",
    "# initialize pins\n",
    "for pin in pins:\n",
    "    setup(pin)\n",
    "\n",
    "# reset pins\n",
    "def reset():\n",
    "    for pin in xpins:\n",
    "        off(pins)\n",
    "    for pin in ypins:\n",
    "        on(pin)\n",
    "\n",
    "reset()"
   ]
  },
  {
   "cell_type": "code",
   "execution_count": null,
   "metadata": {},
   "outputs": [],
   "source": [
    "??on"
   ]
  },
  {
   "cell_type": "code",
   "execution_count": null,
   "metadata": {},
   "outputs": [],
   "source": [
    "grid = [[0]*4 for _ in range(4)]\n",
    "\n",
    "for i in range(4):\n",
    "    grid[i][i] = 1\n",
    "    # grid[i][3-i]=1\n",
    "\n",
    "# disply an array to the mux leds.\n",
    "def display(grid):\n",
    "    for i in range(4):\n",
    "        on(xpins[i])\n",
    "        for j in range(4):\n",
    "            if grid[i][j]:\n",
    "                off(ypins[j])\n",
    "            else:\n",
    "                on(ypins[j])\n",
    "        reset()\n",
    "while True:\n",
    "    display(grid)\n",
    "    \n",
    "\n",
    "\n",
    "GPIO.cleanup()"
   ]
  },
  {
   "cell_type": "code",
   "execution_count": null,
   "metadata": {},
   "outputs": [],
   "source": []
  }
 ],
 "metadata": {
  "kernelspec": {
   "display_name": "Python 3",
   "language": "python",
   "name": "python3"
  },
  "language_info": {
   "codemirror_mode": {
    "name": "ipython",
    "version": 3
   },
   "file_extension": ".py",
   "mimetype": "text/x-python",
   "name": "python",
   "nbconvert_exporter": "python",
   "pygments_lexer": "ipython3",
   "version": "3.7.3"
  }
 },
 "nbformat": 4,
 "nbformat_minor": 4
}
