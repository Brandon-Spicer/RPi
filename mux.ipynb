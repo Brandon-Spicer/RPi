{
 "cells": [
  {
   "cell_type": "code",
   "execution_count": 1,
   "metadata": {},
   "outputs": [],
   "source": [
    "import RPi.GPIO as GPIO\n",
    "from time import time, sleep\n",
    "import random\n",
    "import numpy as np\n",
    "import matplotlib.pyplot as plt\n",
    "import seaborn as sns\n",
    "\n",
    "import matplotlib.animation as animation\n",
    "from matplotlib import cm\n",
    "from IPython.display import HTML\n",
    "\n",
    "GPIO.setmode(GPIO.BOARD)"
   ]
  },
  {
   "cell_type": "code",
   "execution_count": 2,
   "metadata": {},
   "outputs": [],
   "source": [
    "import golgen"
   ]
  },
  {
   "cell_type": "code",
   "execution_count": 3,
   "metadata": {},
   "outputs": [],
   "source": [
    "# helpers\n",
    "def on(pin):\n",
    "    GPIO.output(pin, GPIO.HIGH)\n",
    "\n",
    "def off(pin):\n",
    "    GPIO.output(pin, GPIO.LOW)\n",
    "\n",
    "def toggle(pin):\n",
    "    if GPIO.input(pin):\n",
    "        on(pin)\n",
    "    else:\n",
    "        off(pin)"
   ]
  },
  {
   "cell_type": "code",
   "execution_count": 4,
   "metadata": {},
   "outputs": [],
   "source": [
    "# LED multiplex display controller object \n",
    "class MuxDisplay:\n",
    "    def __init__(self, xpins=[8, 10, 12, 16], ypins=[18, 22, 24, 26]):\n",
    "        self.xpins = xpins\n",
    "        self.ypins = ypins\n",
    "        self.history = []\n",
    "        \n",
    "        # setup, initialize pins\n",
    "        for pin in self.xpins:\n",
    "            GPIO.setup(pin, GPIO.OUT)\n",
    "            GPIO.output(pin, GPIO.LOW)\n",
    "        for pin in self.ypins:\n",
    "            GPIO.setup(pin, GPIO.OUT)\n",
    "            GPIO.output(pin, GPIO.HIGH)\n",
    "            \n",
    "        self.reset()\n",
    "       \n",
    "    # reset pins (turn off all leds)\n",
    "    def reset(self):\n",
    "        for pin in self.xpins:\n",
    "            off(pin)\n",
    "        for pin in self.ypins:\n",
    "            on(pin)\n",
    "    \n",
    "    # animate an iterable\n",
    "    def animate(self, data, dt=1):\n",
    "        for frame in data:\n",
    "            self.display(frame, dt)\n",
    "            self.history.append(frame)\n",
    "\n",
    "    # display a 2D pattern for t seconds\n",
    "    def display(self, grid, t):\n",
    "        display(grid)\n",
    "        x = len(grid)\n",
    "        y = len(grid[0])\n",
    "        start = time()\n",
    "        delta = 0\n",
    "        while delta < t:\n",
    "            for i in range(x):\n",
    "                on(self.xpins[i])\n",
    "\n",
    "                for j in range(y):\n",
    "                    if grid[i][j]:\n",
    "                        off(self.ypins[j])\n",
    "                    else:\n",
    "                        on(self.ypins[j])\n",
    "                self.reset()\n",
    "            delta = time() - start"
   ]
  },
  {
   "cell_type": "code",
   "execution_count": 5,
   "metadata": {},
   "outputs": [],
   "source": [
    "# make this work with generators\n",
    "# pass in a generator instead of a list\n",
    "# for frame in data: gen, self.dispaly(frame, dt)\n",
    "# pass in golgen(seed)"
   ]
  },
  {
   "cell_type": "code",
   "execution_count": 6,
   "metadata": {},
   "outputs": [],
   "source": [
    "foo = MuxDisplay()"
   ]
  },
  {
   "cell_type": "code",
   "execution_count": 8,
   "metadata": {},
   "outputs": [
    {
     "ename": "ValueError",
     "evalue": "The channel sent is invalid on a Raspberry Pi",
     "output_type": "error",
     "traceback": [
      "\u001b[0;31m---------------------------------------------------------------------------\u001b[0m",
      "\u001b[0;31mValueError\u001b[0m                                Traceback (most recent call last)",
      "\u001b[0;32m<ipython-input-8-648c5f539097>\u001b[0m in \u001b[0;36m<module>\u001b[0;34m\u001b[0m\n\u001b[1;32m      3\u001b[0m \u001b[0mypins\u001b[0m \u001b[0;34m=\u001b[0m \u001b[0mallpins\u001b[0m\u001b[0;34m[\u001b[0m\u001b[0;36m12\u001b[0m\u001b[0;34m:\u001b[0m\u001b[0;34m]\u001b[0m\u001b[0;34m\u001b[0m\u001b[0;34m\u001b[0m\u001b[0m\n\u001b[1;32m      4\u001b[0m \u001b[0;34m\u001b[0m\u001b[0m\n\u001b[0;32m----> 5\u001b[0;31m \u001b[0mfoo\u001b[0m \u001b[0;34m=\u001b[0m \u001b[0mMuxDisplay\u001b[0m\u001b[0;34m(\u001b[0m\u001b[0mxpins\u001b[0m\u001b[0;34m,\u001b[0m \u001b[0mypins\u001b[0m\u001b[0;34m)\u001b[0m\u001b[0;34m\u001b[0m\u001b[0;34m\u001b[0m\u001b[0m\n\u001b[0m",
      "\u001b[0;32m<ipython-input-4-21e5c9eb6d6c>\u001b[0m in \u001b[0;36m__init__\u001b[0;34m(self, xpins, ypins)\u001b[0m\n\u001b[1;32m     11\u001b[0m             \u001b[0mGPIO\u001b[0m\u001b[0;34m.\u001b[0m\u001b[0moutput\u001b[0m\u001b[0;34m(\u001b[0m\u001b[0mpin\u001b[0m\u001b[0;34m,\u001b[0m \u001b[0mGPIO\u001b[0m\u001b[0;34m.\u001b[0m\u001b[0mLOW\u001b[0m\u001b[0;34m)\u001b[0m\u001b[0;34m\u001b[0m\u001b[0;34m\u001b[0m\u001b[0m\n\u001b[1;32m     12\u001b[0m         \u001b[0;32mfor\u001b[0m \u001b[0mpin\u001b[0m \u001b[0;32min\u001b[0m \u001b[0mself\u001b[0m\u001b[0;34m.\u001b[0m\u001b[0mypins\u001b[0m\u001b[0;34m:\u001b[0m\u001b[0;34m\u001b[0m\u001b[0;34m\u001b[0m\u001b[0m\n\u001b[0;32m---> 13\u001b[0;31m             \u001b[0mGPIO\u001b[0m\u001b[0;34m.\u001b[0m\u001b[0msetup\u001b[0m\u001b[0;34m(\u001b[0m\u001b[0mpin\u001b[0m\u001b[0;34m,\u001b[0m \u001b[0mGPIO\u001b[0m\u001b[0;34m.\u001b[0m\u001b[0mOUT\u001b[0m\u001b[0;34m)\u001b[0m\u001b[0;34m\u001b[0m\u001b[0;34m\u001b[0m\u001b[0m\n\u001b[0m\u001b[1;32m     14\u001b[0m             \u001b[0mGPIO\u001b[0m\u001b[0;34m.\u001b[0m\u001b[0moutput\u001b[0m\u001b[0;34m(\u001b[0m\u001b[0mpin\u001b[0m\u001b[0;34m,\u001b[0m \u001b[0mGPIO\u001b[0m\u001b[0;34m.\u001b[0m\u001b[0mHIGH\u001b[0m\u001b[0;34m)\u001b[0m\u001b[0;34m\u001b[0m\u001b[0;34m\u001b[0m\u001b[0m\n\u001b[1;32m     15\u001b[0m \u001b[0;34m\u001b[0m\u001b[0m\n",
      "\u001b[0;31mValueError\u001b[0m: The channel sent is invalid on a Raspberry Pi"
     ]
    }
   ],
   "source": [
    "allpins = [3, 5, 7, 8, 10, 11, 12, 13, 15, 16, 18, 19, 21, 22, 23, 24, 26, 27, 28, 29, 31, 32, 33, 35, 36, 37, 38, 40]\n",
    "xpins = allpins[:12]\n",
    "ypins = allpins[12:]\n",
    "\n",
    "foo = MuxDisplay(xpins, ypins)"
   ]
  },
  {
   "cell_type": "code",
   "execution_count": null,
   "metadata": {},
   "outputs": [],
   "source": []
  },
  {
   "cell_type": "code",
   "execution_count": null,
   "metadata": {},
   "outputs": [],
   "source": [
    "randy = np.random.randint(0,2, [8, 6])\n",
    "fig, ax = plt.subplots()\n",
    "img = ax.imshow(randy, cmap=cm.afmhot)"
   ]
  },
  {
   "cell_type": "code",
   "execution_count": null,
   "metadata": {},
   "outputs": [],
   "source": [
    "# animation\n",
    "gen = golgen.golgen(randy)\n",
    "def animate(i):\n",
    "    img.set_data(next(gen))\n",
    "gen = golgen.golgen(randy)\n",
    "ca = [next(gen) for _ in range(15)]\n",
    "ani = animation.FuncAnimation(fig, animate, frames=50, interval=100)\n",
    "HTML(ani.to_jshtml())"
   ]
  },
  {
   "cell_type": "code",
   "execution_count": null,
   "metadata": {},
   "outputs": [],
   "source": [
    "gen = golgen.golgen(randy)\n",
    "\n",
    "foo.animate(gen, dt=0.1)"
   ]
  },
  {
   "cell_type": "code",
   "execution_count": null,
   "metadata": {},
   "outputs": [],
   "source": [
    "gen = golgen.golgen(randy)\n",
    "ca = [next(gen) for _ in range(60)]"
   ]
  },
  {
   "cell_type": "code",
   "execution_count": null,
   "metadata": {},
   "outputs": [],
   "source": [
    "while True:\n",
    "    foo.animate(ca, dt=0.1)"
   ]
  },
  {
   "cell_type": "code",
   "execution_count": null,
   "metadata": {},
   "outputs": [],
   "source": [
    "randy.shape"
   ]
  },
  {
   "cell_type": "code",
   "execution_count": null,
   "metadata": {},
   "outputs": [],
   "source": [
    "foo.display(disp[1], 5)"
   ]
  },
  {
   "cell_type": "code",
   "execution_count": null,
   "metadata": {},
   "outputs": [],
   "source": [
    "foo.history\n"
   ]
  },
  {
   "cell_type": "code",
   "execution_count": null,
   "metadata": {},
   "outputs": [],
   "source": [
    "next(foo.data)"
   ]
  },
  {
   "cell_type": "code",
   "execution_count": null,
   "metadata": {},
   "outputs": [],
   "source": [
    "randy = [[[random.randint(0,1) for _ in range (4)] for _ in range(4)]for _ in range(100)]"
   ]
  },
  {
   "cell_type": "code",
   "execution_count": null,
   "metadata": {},
   "outputs": [],
   "source": [
    "foo.animate(randy, 0.1)"
   ]
  },
  {
   "cell_type": "code",
   "execution_count": null,
   "metadata": {},
   "outputs": [],
   "source": [
    "test = input()"
   ]
  },
  {
   "cell_type": "code",
   "execution_count": null,
   "metadata": {},
   "outputs": [],
   "source": [
    "test"
   ]
  },
  {
   "cell_type": "code",
   "execution_count": null,
   "metadata": {},
   "outputs": [],
   "source": [
    "grid = [[0]*4 for _ in range(4)]\n",
    "for i in range(4):\n",
    "    grid[i][i] = 1\n",
    "grid"
   ]
  },
  {
   "cell_type": "code",
   "execution_count": null,
   "metadata": {},
   "outputs": [],
   "source": [
    "foo.display(grid, 5)"
   ]
  },
  {
   "cell_type": "code",
   "execution_count": null,
   "metadata": {},
   "outputs": [],
   "source": [
    "def shifter(grid):\n",
    "    while True:\n",
    "        grid = [grid[-1]] + grid[:3]\n",
    "        yield grid"
   ]
  },
  {
   "cell_type": "code",
   "execution_count": null,
   "metadata": {},
   "outputs": [],
   "source": [
    "15*14"
   ]
  },
  {
   "cell_type": "code",
   "execution_count": null,
   "metadata": {},
   "outputs": [],
   "source": [
    "24*8"
   ]
  },
  {
   "cell_type": "code",
   "execution_count": null,
   "metadata": {},
   "outputs": [],
   "source": []
  }
 ],
 "metadata": {
  "kernelspec": {
   "display_name": "Python 3",
   "language": "python",
   "name": "python3"
  },
  "language_info": {
   "codemirror_mode": {
    "name": "ipython",
    "version": 3
   },
   "file_extension": ".py",
   "mimetype": "text/x-python",
   "name": "python",
   "nbconvert_exporter": "python",
   "pygments_lexer": "ipython3",
   "version": "3.7.3"
  }
 },
 "nbformat": 4,
 "nbformat_minor": 4
}
